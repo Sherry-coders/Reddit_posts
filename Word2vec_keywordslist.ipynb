{
 "cells": [
  {
   "cell_type": "code",
   "execution_count": 1,
   "metadata": {},
   "outputs": [],
   "source": [
    "import os\n",
    "import json\n",
    "import pandas as pd\n",
    "import io\n",
    "import datetime\n",
    "import logging\n",
    "import zstandard as zstd\n",
    "from gensim.models import KeyedVectors\n",
    "from concurrent.futures import ProcessPoolExecutor, as_completed"
   ]
  },
  {
   "cell_type": "code",
   "execution_count": 2,
   "metadata": {},
   "outputs": [],
   "source": [
    "logging.basicConfig(level=logging.INFO, format='%(asctime)s - %(levelname)s - %(message)s')\n"
   ]
  },
  {
   "cell_type": "code",
   "execution_count": 5,
   "metadata": {},
   "outputs": [
    {
     "name": "stderr",
     "output_type": "stream",
     "text": [
      "2024-06-05 15:58:46,726 - INFO - loading projection weights from C:\\Users\\ntu-s\\OneDrive - Nanyang Technological University\\sherry\\__pycache__\\GoogleNews-vectors-negative300.bin\\GoogleNews-vectors-negative300.bin\n",
      "2024-06-05 15:59:03,042 - INFO - KeyedVectors lifecycle event {'msg': 'loaded (3000000, 300) matrix of type float32 from C:\\\\Users\\\\ntu-s\\\\OneDrive - Nanyang Technological University\\\\sherry\\\\__pycache__\\\\GoogleNews-vectors-negative300.bin\\\\GoogleNews-vectors-negative300.bin', 'binary': True, 'encoding': 'utf8', 'datetime': '2024-06-05T15:59:03.042790', 'gensim': '4.3.0', 'python': '3.11.7 | packaged by Anaconda, Inc. | (main, Dec 15 2023, 18:05:47) [MSC v.1916 64 bit (AMD64)]', 'platform': 'Windows-10-10.0.22631-SP0', 'event': 'load_word2vec_format'}\n"
     ]
    }
   ],
   "source": [
    "word2vec_model_path = r\"C:\\Users\\ntu-s\\OneDrive - Nanyang Technological University\\sherry\\__pycache__\\GoogleNews-vectors-negative300.bin\\GoogleNews-vectors-negative300.bin\"\n",
    "word2vec_model = KeyedVectors.load_word2vec_format(word2vec_model_path, binary=True)"
   ]
  },
  {
   "cell_type": "code",
   "execution_count": 60,
   "metadata": {},
   "outputs": [],
   "source": [
    "def get_related_words_word2vec(keyword, top_k=10, similarity_threshold=0.6):\n",
    "    try:\n",
    "        related_words = word2vec_model.most_similar(keyword, topn=top_k)\n",
    "        return [word.lower() for word, similarity in related_words if similarity >= similarity_threshold]\n",
    "    except KeyError:\n",
    "        logging.warning(f\"Keyword '{keyword}' not in Word2Vec vocabulary.\")\n",
    "        return []"
   ]
  },
  {
   "cell_type": "code",
   "execution_count": 61,
   "metadata": {},
   "outputs": [],
   "source": [
    "def generate_keywords_list(keywords, top_k=20, similarity_threshold=0.6, output_path=None):\n",
    "\n",
    "    all_keywords = set(keywords)\n",
    "    for keyword in keywords:\n",
    "        related_words = get_related_words_word2vec(keyword, top_k, similarity_threshold)\n",
    "        all_keywords.update(related_words)\n",
    "    extended_keywords_list = sorted(list(all_keywords))  \n",
    "    \n",
    "    print(\"Extended Keywords List:\")\n",
    "    for keyword in extended_keywords_list:\n",
    "        print(keyword)\n",
    "    \n",
    "    if output_path:\n",
    "        with open(output_path, 'w', encoding='utf-8') as f:\n",
    "            for keyword in extended_keywords_list:\n",
    "                f.write(keyword + '\\n')\n",
    "    \n",
    "    return extended_keywords_list"
   ]
  },
  {
   "cell_type": "code",
   "execution_count": 62,
   "metadata": {},
   "outputs": [
    {
     "name": "stderr",
     "output_type": "stream",
     "text": [
      "2024-06-05 16:31:27,102 - INFO - Extended Keywords: ['alcoholism', 'angst', 'anticipatory_anxiety', 'anxieties', 'anxiety', 'anxiousness', 'asserted', 'belt_flak_vest', 'bi_polar_disorder', 'bipolar_depression', 'bipolar_disorder', 'burnout', 'commit_suicide', 'depressed', 'depressed_maruca_kovac', 'depression', 'depression_anxiety', 'depressive', 'depressive_illness', 'depressive_illnesses', 'desolation', 'despair', 'despondency', 'disheartening', 'distressing', 'emphasized', 'fail', 'failed', 'failing', 'failure', 'failures', 'heartbreaking', 'hectic', 'helplessness', 'hopeless', 'hopelessness', 'inability', 'inconsequential', 'insisted', 'irrelevant', 'loser', 'losers', 'meaningless', 'meaninglessness', 'mental_illness', 'mentalhealth', 'meny_friedman', 'nerve_racking', 'nerve_wracking', 'nervousness', 'noted', 'parishioner_pat_patello', 'pointless', 'poisonous', 'powerlessness', 'psychosis', 'reiterated', 'reminders_bobbing', 'sad', 'saddened', 'saddening', 'saddens_me', 'said', 'severely_depressed', 'stress', 'stressed', 'stresses', 'stressful', 'stressing', 'suicidal', 'suicide', 'suicides', 'toxic', 'toxic_chemicals', 'toxic_dioxins', 'toxic_substances', 'toxic_waste', 'toxins', 'underlined', 'unease', 'uneasiness', 'unimportant', 'useless', 'utter_despair', 'utter_hopelessness']\n"
     ]
    },
    {
     "name": "stdout",
     "output_type": "stream",
     "text": [
      "Extended Keywords List:\n",
      "alcoholism\n",
      "angst\n",
      "anticipatory_anxiety\n",
      "anxieties\n",
      "anxiety\n",
      "anxiousness\n",
      "asserted\n",
      "belt_flak_vest\n",
      "bi_polar_disorder\n",
      "bipolar_depression\n",
      "bipolar_disorder\n",
      "burnout\n",
      "commit_suicide\n",
      "depressed\n",
      "depressed_maruca_kovac\n",
      "depression\n",
      "depression_anxiety\n",
      "depressive\n",
      "depressive_illness\n",
      "depressive_illnesses\n",
      "desolation\n",
      "despair\n",
      "despondency\n",
      "disheartening\n",
      "distressing\n",
      "emphasized\n",
      "fail\n",
      "failed\n",
      "failing\n",
      "failure\n",
      "failures\n",
      "heartbreaking\n",
      "hectic\n",
      "helplessness\n",
      "hopeless\n",
      "hopelessness\n",
      "inability\n",
      "inconsequential\n",
      "insisted\n",
      "irrelevant\n",
      "loser\n",
      "losers\n",
      "meaningless\n",
      "meaninglessness\n",
      "mental_illness\n",
      "mentalhealth\n",
      "meny_friedman\n",
      "nerve_racking\n",
      "nerve_wracking\n",
      "nervousness\n",
      "noted\n",
      "parishioner_pat_patello\n",
      "pointless\n",
      "poisonous\n",
      "powerlessness\n",
      "psychosis\n",
      "reiterated\n",
      "reminders_bobbing\n",
      "sad\n",
      "saddened\n",
      "saddening\n",
      "saddens_me\n",
      "said\n",
      "severely_depressed\n",
      "stress\n",
      "stressed\n",
      "stresses\n",
      "stressful\n",
      "stressing\n",
      "suicidal\n",
      "suicide\n",
      "suicides\n",
      "toxic\n",
      "toxic_chemicals\n",
      "toxic_dioxins\n",
      "toxic_substances\n",
      "toxic_waste\n",
      "toxins\n",
      "underlined\n",
      "unease\n",
      "uneasiness\n",
      "unimportant\n",
      "useless\n",
      "utter_despair\n",
      "utter_hopelessness\n"
     ]
    }
   ],
   "source": [
    "def main():\n",
    "    keywords_output_path = \"C:\\\\Users\\\\ntu-s\\\\OneDrive - Nanyang Technological University\\\\sherry\\\\reddit output\\\\extended_keywords.txt\"\n",
    "    keywords = [\n",
    "    'mentalhealth', 'suicide', 'depressed', 'depression', 'anxiety', 'stressed', 'stressful',\n",
    "    'burnout', 'hopeless', 'hopelessness', 'meaningless', 'meaninglessness', 'sad',\n",
    "    'failure', 'loser', 'toxic'\n",
    "    ]\n",
    "    extended_keywords = generate_keywords_list(keywords, top_k=10, similarity_threshold=0.6, output_path=keywords_output_path)\n",
    "    logging.info(f\"Extended Keywords: {extended_keywords}\")\n",
    "\n",
    "\n",
    "if __name__ == \"__main__\":\n",
    "    main()"
   ]
  }
 ],
 "metadata": {
  "kernelspec": {
   "display_name": "Python 3 (ipykernel)",
   "language": "python",
   "name": "python3"
  }
 },
 "nbformat": 4,
 "nbformat_minor": 2
}
